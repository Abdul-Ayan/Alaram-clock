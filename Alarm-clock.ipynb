{
 "cells": [
  {
   "cell_type": "code",
   "execution_count": null,
   "id": "854e6610-7482-4ae6-b192-01949c053049",
   "metadata": {},
   "outputs": [
    {
     "name": "stdout",
     "output_type": "stream",
     "text": [
      "Welcome to Alarm Clock App!\n"
     ]
    },
    {
     "name": "stdin",
     "output_type": "stream",
     "text": [
      "Enter the hour (0-23):  15\n",
      "Enter the minute (0-59):  56\n"
     ]
    },
    {
     "name": "stdout",
     "output_type": "stream",
     "text": [
      "Alarm set for 15:56:00\n"
     ]
    }
   ],
   "source": [
    "import time\n",
    "import winsound  # For Windows system sound\n",
    "\n",
    "def set_alarm(alarm_time):\n",
    "    while True:\n",
    "        current_time = time.strftime(\"%H:%M:%S\")\n",
    "        if current_time == alarm_time:\n",
    "            print(\"Alarm! Wake up!\")\n",
    "            # Play system sound (change path if needed)\n",
    "            winsound.PlaySound(\"SystemExclamation\", winsound.SND_ALIAS)\n",
    "            break\n",
    "        time.sleep(1)  # Check every second\n",
    "\n",
    "def main():\n",
    "    print(\"Welcome to Alarm Clock App!\")\n",
    "\n",
    "    # Get alarm time from user\n",
    "    alarm_hour = int(input(\"Enter the hour (0-23): \"))\n",
    "    alarm_minute = int(input(\"Enter the minute (0-59): \"))\n",
    "\n",
    "    # Validate input\n",
    "    if alarm_hour < 0 or alarm_hour > 23 or alarm_minute < 0 or alarm_minute > 59:\n",
    "        print(\"Invalid time. Please enter a valid hour (0-23) and minute (0-59).\")\n",
    "        return\n",
    "\n",
    "    # Format alarm time\n",
    "    alarm_time = f\"{alarm_hour:02d}:{alarm_minute:02d}:00\"\n",
    "    print(f\"Alarm set for {alarm_time}\")\n",
    "\n",
    "    set_alarm(alarm_time)\n",
    "\n",
    "if __name__ == \"__main__\":\n",
    "    main()\n"
   ]
  },
  {
   "cell_type": "code",
   "execution_count": null,
   "id": "ffc756f1-cbd0-43bf-a233-c3116c2061ef",
   "metadata": {},
   "outputs": [],
   "source": []
  }
 ],
 "metadata": {
  "kernelspec": {
   "display_name": "Python 3 (ipykernel)",
   "language": "python",
   "name": "python3"
  },
  "language_info": {
   "codemirror_mode": {
    "name": "ipython",
    "version": 3
   },
   "file_extension": ".py",
   "mimetype": "text/x-python",
   "name": "python",
   "nbconvert_exporter": "python",
   "pygments_lexer": "ipython3",
   "version": "3.12.3"
  }
 },
 "nbformat": 4,
 "nbformat_minor": 5
}
